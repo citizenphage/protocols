{
 "cells": [
  {
   "cell_type": "code",
   "execution_count": 1,
   "metadata": {},
   "outputs": [],
   "source": [
    "# Install modules\n",
    "!pip install --ignore-installed jedi pandas numpy==1.23 numba openpyxl cvxpy"
   ]
  },
  {
   "cell_type": "code",
   "execution_count": 22,
   "metadata": {},
   "outputs": [],
   "source": [
    "import pandas as pd\n",
    "import re\n",
    "\n",
    "##########################################\n",
    "#USER DEFINED VARIABLES\n",
    "# Enter the path to the file produced after running the microplate reader\n",
    "filename = r\"C:\\Users\\jts211\\OneDrive - University of Exeter\\MRes\\Opentrons\\CPL R code\\tecan_raw_data_test.xlsx\" \n",
    "##########################################\n",
    "\n",
    "# Define functions\n",
    "def parse_chunk(chunk):\n",
    "    d = {'well': chunk[0],\n",
    "         'time_hours': chunk[1],\n",
    "         'mean_od': chunk[2]}\n",
    "    return pd.DataFrame(d)\n",
    "\n",
    "def parse_tecan(file):\n",
    "    df = pd.read_excel(file)\n",
    "    df.to_csv('tmp.csv', index=False)\n",
    "    chunks = []\n",
    "    chunk = []\n",
    "    with open('tmp.csv', 'rt') as handle:\n",
    "        for line in handle.readlines():\n",
    "            line = line.strip()\n",
    "            if line.startswith('Cycles / Well'):\n",
    "                if chunk:\n",
    "                    chunks.append(chunk)\n",
    "                chunk = []\n",
    "                continue\n",
    "            rgx = re.compile('(^[A-H][0-9]+)')\n",
    "            m = rgx.search(line)\n",
    "            if m:\n",
    "                chunk.append(m.group(1))\n",
    "            elif line.startswith('Time [s]'):\n",
    "                chunk.append([round(float(x)/60/60, 2) for x in line.split(',')[1:]])\n",
    "            elif line.startswith('Mean'):\n",
    "                chunk.append([round(float(x), 4) for x in line.split(',')[1:]])\n",
    "        chunks.append(chunk)\n",
    "    pd.concat([parse_chunk(x) for x in chunks]).to_csv('reformatted.csv', index=False)"
   ]
  },
  {
   "cell_type": "code",
   "execution_count": 23,
   "metadata": {},
   "outputs": [],
   "source": [
    "# Call function\n",
    "df = parse_tecan(filename)"
   ]
  }
 ],
 "metadata": {
  "kernelspec": {
   "display_name": "Python 3",
   "language": "python",
   "name": "python3"
  },
  "language_info": {
   "codemirror_mode": {
    "name": "ipython",
    "version": 3
   },
   "file_extension": ".py",
   "mimetype": "text/x-python",
   "name": "python",
   "nbconvert_exporter": "python",
   "pygments_lexer": "ipython3",
   "version": "3.10.11"
  }
 },
 "nbformat": 4,
 "nbformat_minor": 2
}
